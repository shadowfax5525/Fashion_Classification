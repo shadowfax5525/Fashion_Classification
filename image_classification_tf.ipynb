{
 "cells": [
  {
   "cell_type": "code",
   "execution_count": 1,
   "id": "b3ac24d7",
   "metadata": {},
   "outputs": [],
   "source": [
    "import tensorflow as tf\n",
    "from tensorflow import keras\n",
    "import numpy as np\n",
    "import matplotlib.pyplot as plt\n",
    "data= keras.datasets.fashion_mnist"
   ]
  },
  {
   "cell_type": "code",
   "execution_count": 2,
   "id": "440a1ff1",
   "metadata": {},
   "outputs": [
    {
     "name": "stdout",
     "output_type": "stream",
     "text": [
      "Downloading data from https://storage.googleapis.com/tensorflow/tf-keras-datasets/train-labels-idx1-ubyte.gz\n",
      "32768/29515 [=================================] - 0s 1us/step\n",
      "Downloading data from https://storage.googleapis.com/tensorflow/tf-keras-datasets/train-images-idx3-ubyte.gz\n",
      "26427392/26421880 [==============================] - 6s 0us/step\n",
      "Downloading data from https://storage.googleapis.com/tensorflow/tf-keras-datasets/t10k-labels-idx1-ubyte.gz\n",
      "8192/5148 [===============================================] - 0s 0s/step\n",
      "Downloading data from https://storage.googleapis.com/tensorflow/tf-keras-datasets/t10k-images-idx3-ubyte.gz\n",
      "4423680/4422102 [==============================] - 1s 0us/step\n"
     ]
    }
   ],
   "source": [
    "(train_images, train_labels), (test_images, test_labels)= data.load_data()"
   ]
  },
  {
   "cell_type": "code",
   "execution_count": 10,
   "id": "f724e202",
   "metadata": {},
   "outputs": [
    {
     "name": "stdout",
     "output_type": "stream",
     "text": [
      "8\n"
     ]
    }
   ],
   "source": [
    "print(train_labels[23])"
   ]
  },
  {
   "cell_type": "code",
   "execution_count": 11,
   "id": "bf27d39f",
   "metadata": {},
   "outputs": [],
   "source": [
    "class_names = ['T-shirt/top', 'Trouser', 'Pullover', 'Dress', 'Coat',\n",
    "               'Sandal', 'Shirt', 'Sneaker', 'Bag', 'Ankle boot']\n"
   ]
  },
  {
   "cell_type": "code",
   "execution_count": 12,
   "id": "d188514b",
   "metadata": {},
   "outputs": [
    {
     "data": {
      "text/plain": [
       "(60000, 28, 28)"
      ]
     },
     "execution_count": 12,
     "metadata": {},
     "output_type": "execute_result"
    }
   ],
   "source": [
    "train_images.shape"
   ]
  },
  {
   "cell_type": "code",
   "execution_count": 23,
   "id": "d70fbcb6",
   "metadata": {},
   "outputs": [
    {
     "data": {
      "text/plain": [
       "60000"
      ]
     },
     "execution_count": 23,
     "metadata": {},
     "output_type": "execute_result"
    }
   ],
   "source": [
    "len(train_labels)\n"
   ]
  },
  {
   "cell_type": "code",
   "execution_count": 24,
   "id": "132dcc6c",
   "metadata": {},
   "outputs": [
    {
     "data": {
      "text/plain": [
       "(10000, 28, 28)"
      ]
     },
     "execution_count": 24,
     "metadata": {},
     "output_type": "execute_result"
    }
   ],
   "source": [
    "test_images.shape\n"
   ]
  },
  {
   "cell_type": "code",
   "execution_count": 27,
   "id": "8d17a74f",
   "metadata": {},
   "outputs": [
    {
     "name": "stdout",
     "output_type": "stream",
     "text": [
      "[[  0   0   0   0   0   0   0   0   0   0 122 101  73  59  39 108  89  91\n",
      "   83   0   0   0   0   0   0   0   0   0]\n",
      " [  0   0   0   0   0   0   0   0   0   3 215 232 236 223 171 254 233 170\n",
      "  147   0   0   0   0   0   0   0   0   0]\n",
      " [  0   0   0   0   0   0   0   0   0  87 232 176 183 209 240 222 184 187\n",
      "  171  14   0   0   0   0   0   0   0   0]\n",
      " [  0   0   0   0   0   0   0   0   0 116 198 170 168 186 198 167 168 184\n",
      "  191  40   0   0   0   0   0   0   0   0]\n",
      " [  0   0   0   0   0   0   0   0   0 144 178 164 170 198 164 167 182 160\n",
      "  178  80   0   0   0   0   0   0   0   0]\n",
      " [  0   0   0   0   0   0   0   0   0 165 180 158 160 184 223 192 168 167\n",
      "  180 109   0   0   0   0   0   0   0   0]\n",
      " [  0   0   0   0   0   0   0   0   0 163 176 160 166 178 218 190 176 180\n",
      "  138  64   0   0   0   0   0   0   0   0]\n",
      " [  0   0   0   0   0   0   0   0   0 156 166 152 157 188 165 218 165 179\n",
      "   84  43   0   0   0   0   0   0   0   0]\n",
      " [  0   0   0   0   0   0   0   0   0 145 166 141 164 216  71 246 167 155\n",
      "  102  58   0   0   0   0   0   0   0   0]\n",
      " [  0   0   0   0   0   0   0   0   0  99 177 141 155 203  28 254 190 160\n",
      "  158  72   0   0   0   0   0   0   0   0]\n",
      " [  0   0   0   0   0   0   0   0   0  71 187 137 149 199   0 206 205 152\n",
      "  106  61   0   0   0   0   0   0   0   0]\n",
      " [  0   0   0   0   0   0   0   0   0  41 188 135 156 188   0 174 216 128\n",
      "   47  43   0   0   0   0   0   0   0   0]\n",
      " [  0   0   0   0   0   0   0   0   0   3 196 145 152 167   0 143 199 118\n",
      "   62  42   0   0   0   0   0   0   0   0]\n",
      " [  0   0   0   0   0   0   0   0   0   0 180 149 161 168   0 117 196 142\n",
      "  109  24   0   0   0   0   0   0   0   0]\n",
      " [  0   0   0   0   0   0   0   0   0   0 117 111 183 170   0 103 194 142\n",
      "  138   0   0   0   0   0   0   0   0   0]\n",
      " [  0   0   0   0   0   0   0   0   0   0 145  79  25 129   0 100 191 137\n",
      "  121   0   0   0   0   0   0   0   0   0]\n",
      " [  0   0   0   0   0   0   0   0   0   0 141 157  75 137   0  87 190 134\n",
      "  103   0   0   0   0   0   0   0   0   0]\n",
      " [  0   0   0   0   0   0   0   0   0   0 119 153 136 107   0  41 199 133\n",
      "   74   0   0   0   0   0   0   0   0   0]\n",
      " [  0   0   0   0   0   0   0   0   0   0 132 155 153  37   0   0 181 136\n",
      "   93   0   0   0   0   0   0   0   0   0]\n",
      " [  0   0   0   0   0   0   0   0   0   0 175 179 157   9   0   0 174 183\n",
      "  120   0   0   0   0   0   0   0   0   0]\n",
      " [  0   0   0   0   0   0   0   0   0   0 183 164 179  20   0   0 181 211\n",
      "  134   0   0   0   0   0   0   0   0   0]\n",
      " [  0   0   0   0   0   0   0   0   0   0 160 106 175  26   0   0 191 205\n",
      "  128   0   0   0   0   0   0   0   0   0]\n",
      " [  0   0   0   0   0   0   0   0   0   0 122 128 161   3   0   0 189 206\n",
      "  105   0   0   0   0   0   0   0   0   0]\n",
      " [  0   0   0   0   0   0   0   0   0   0  63 214 165   0   0   0 174 204\n",
      "   56   0   0   0   0   0   0   0   0   0]\n",
      " [  0   0   0   0   0   0   0   0   0   0  25 206 157   0   0   0 161 199\n",
      "   17   0   0   0   0   0   0   0   0   0]\n",
      " [  0   0   0   0   0   0   0   0   0   0   0 184 145   0   0   0 160 182\n",
      "    0   0   0   0   0   0   0   0   0   0]\n",
      " [  0   0   0   0   0   0   0   0   0   0   0 181 146   0   0   0 177 175\n",
      "    0   0   0   0   0   0   0   0   0   0]\n",
      " [  0   0   0   0   0   0   0   0   0   0   0 112  88   0   0   0 111 120\n",
      "    0   0   0   0   0   0   0   0   0   0]]\n"
     ]
    }
   ],
   "source": [
    "print(train_images[78])"
   ]
  },
  {
   "cell_type": "code",
   "execution_count": 72,
   "id": "f7f32388",
   "metadata": {},
   "outputs": [
    {
     "data": {
      "image/png": "[encoded data removed]",
      "text/plain": [
       "<Figure size 432x288 with 1 Axes>"
      ]
     },
     "metadata": {
      "needs_background": "light"
     },
     "output_type": "display_data"
    }
   ],
   "source": [
    "plt.imshow(test_images[78], cmap=plt.cm.binary)\n",
    "plt.show()\n"
   ]
  },
  {
   "cell_type": "code",
   "execution_count": 28,
   "id": "023b1f25",
   "metadata": {},
   "outputs": [],
   "source": [
    "train_images = train_images / 255.0\n",
    "\n",
    "test_images = test_images / 255.0\n"
   ]
  },
  {
   "cell_type": "code",
   "execution_count": 58,
   "id": "4d06dfe3",
   "metadata": {},
   "outputs": [
    {
     "name": "stdout",
     "output_type": "stream",
     "text": [
      "[[0.         0.         0.         0.         0.         0.\n",
      "  0.         0.         0.         0.         0.47843137 0.39607843\n",
      "  0.28627451 0.23137255 0.15294118 0.42352941 0.34901961 0.35686275\n",
      "  0.3254902  0.         0.         0.         0.         0.\n",
      "  0.         0.         0.         0.        ]\n",
      " [0.         0.         0.         0.         0.         0.\n",
      "  0.         0.         0.         0.01176471 0.84313725 0.90980392\n",
      "  0.9254902  0.8745098  0.67058824 0.99607843 0.91372549 0.66666667\n",
      "  0.57647059 0.         0.         0.         0.         0.\n",
      "  0.         0.         0.         0.        ]\n",
      " [0.         0.         0.         0.         0.         0.\n",
      "  0.         0.         0.         0.34117647 0.90980392 0.69019608\n",
      "  0.71764706 0.81960784 0.94117647 0.87058824 0.72156863 0.73333333\n",
      "  0.67058824 0.05490196 0.         0.         0.         0.\n",
      "  0.         0.         0.         0.        ]\n",
      " [0.         0.         0.         0.         0.         0.\n",
      "  0.         0.         0.         0.45490196 0.77647059 0.66666667\n",
      "  0.65882353 0.72941176 0.77647059 0.65490196 0.65882353 0.72156863\n",
      "  0.74901961 0.15686275 0.         0.         0.         0.\n",
      "  0.         0.         0.         0.        ]\n",
      " [0.         0.         0.         0.         0.         0.\n",
      "  0.         0.         0.         0.56470588 0.69803922 0.64313725\n",
      "  0.66666667 0.77647059 0.64313725 0.65490196 0.71372549 0.62745098\n",
      "  0.69803922 0.31372549 0.         0.         0.         0.\n",
      "  0.         0.         0.         0.        ]\n",
      " [0.         0.         0.         0.         0.         0.\n",
      "  0.         0.         0.         0.64705882 0.70588235 0.61960784\n",
      "  0.62745098 0.72156863 0.8745098  0.75294118 0.65882353 0.65490196\n",
      "  0.70588235 0.42745098 0.         0.         0.         0.\n",
      "  0.         0.         0.         0.        ]\n",
      " [0.         0.         0.         0.         0.         0.\n",
      "  0.         0.         0.         0.63921569 0.69019608 0.62745098\n",
      "  0.65098039 0.69803922 0.85490196 0.74509804 0.69019608 0.70588235\n",
      "  0.54117647 0.25098039 0.         0.         0.         0.\n",
      "  0.         0.         0.         0.        ]\n",
      " [0.         0.         0.         0.         0.         0.\n",
      "  0.         0.         0.         0.61176471 0.65098039 0.59607843\n",
      "  0.61568627 0.7372549  0.64705882 0.85490196 0.64705882 0.70196078\n",
      "  0.32941176 0.16862745 0.         0.         0.         0.\n",
      "  0.         0.         0.         0.        ]\n",
      " [0.         0.         0.         0.         0.         0.\n",
      "  0.         0.         0.         0.56862745 0.65098039 0.55294118\n",
      "  0.64313725 0.84705882 0.27843137 0.96470588 0.65490196 0.60784314\n",
      "  0.4        0.22745098 0.         0.         0.         0.\n",
      "  0.         0.         0.         0.        ]\n",
      " [0.         0.         0.         0.         0.         0.\n",
      "  0.         0.         0.         0.38823529 0.69411765 0.55294118\n",
      "  0.60784314 0.79607843 0.10980392 0.99607843 0.74509804 0.62745098\n",
      "  0.61960784 0.28235294 0.         0.         0.         0.\n",
      "  0.         0.         0.         0.        ]\n",
      " [0.         0.         0.         0.         0.         0.\n",
      "  0.         0.         0.         0.27843137 0.73333333 0.5372549\n",
      "  0.58431373 0.78039216 0.         0.80784314 0.80392157 0.59607843\n",
      "  0.41568627 0.23921569 0.         0.         0.         0.\n",
      "  0.         0.         0.         0.        ]\n",
      " [0.         0.         0.         0.         0.         0.\n",
      "  0.         0.         0.         0.16078431 0.7372549  0.52941176\n",
      "  0.61176471 0.7372549  0.         0.68235294 0.84705882 0.50196078\n",
      "  0.18431373 0.16862745 0.         0.         0.         0.\n",
      "  0.         0.         0.         0.        ]\n",
      " [0.         0.         0.         0.         0.         0.\n",
      "  0.         0.         0.         0.01176471 0.76862745 0.56862745\n",
      "  0.59607843 0.65490196 0.         0.56078431 0.78039216 0.4627451\n",
      "  0.24313725 0.16470588 0.         0.         0.         0.\n",
      "  0.         0.         0.         0.        ]\n",
      " [0.         0.         0.         0.         0.         0.\n",
      "  0.         0.         0.         0.         0.70588235 0.58431373\n",
      "  0.63137255 0.65882353 0.         0.45882353 0.76862745 0.55686275\n",
      "  0.42745098 0.09411765 0.         0.         0.         0.\n",
      "  0.         0.         0.         0.        ]\n",
      " [0.         0.         0.         0.         0.         0.\n",
      "  0.         0.         0.         0.         0.45882353 0.43529412\n",
      "  0.71764706 0.66666667 0.         0.40392157 0.76078431 0.55686275\n",
      "  0.54117647 0.         0.         0.         0.         0.\n",
      "  0.         0.         0.         0.        ]\n",
      " [0.         0.         0.         0.         0.         0.\n",
      "  0.         0.         0.         0.         0.56862745 0.30980392\n",
      "  0.09803922 0.50588235 0.         0.39215686 0.74901961 0.5372549\n",
      "  0.4745098  0.         0.         0.         0.         0.\n",
      "  0.         0.         0.         0.        ]\n",
      " [0.         0.         0.         0.         0.         0.\n",
      "  0.         0.         0.         0.         0.55294118 0.61568627\n",
      "  0.29411765 0.5372549  0.         0.34117647 0.74509804 0.5254902\n",
      "  0.40392157 0.         0.         0.         0.         0.\n",
      "  0.         0.         0.         0.        ]\n",
      " [0.         0.         0.         0.         0.         0.\n",
      "  0.         0.         0.         0.         0.46666667 0.6\n",
      "  0.53333333 0.41960784 0.         0.16078431 0.78039216 0.52156863\n",
      "  0.29019608 0.         0.         0.         0.         0.\n",
      "  0.         0.         0.         0.        ]\n",
      " [0.         0.         0.         0.         0.         0.\n",
      "  0.         0.         0.         0.         0.51764706 0.60784314\n",
      "  0.6        0.14509804 0.         0.         0.70980392 0.53333333\n",
      "  0.36470588 0.         0.         0.         0.         0.\n",
      "  0.         0.         0.         0.        ]\n",
      " [0.         0.         0.         0.         0.         0.\n",
      "  0.         0.         0.         0.         0.68627451 0.70196078\n",
      "  0.61568627 0.03529412 0.         0.         0.68235294 0.71764706\n",
      "  0.47058824 0.         0.         0.         0.         0.\n",
      "  0.         0.         0.         0.        ]\n",
      " [0.         0.         0.         0.         0.         0.\n",
      "  0.         0.         0.         0.         0.71764706 0.64313725\n",
      "  0.70196078 0.07843137 0.         0.         0.70980392 0.82745098\n",
      "  0.5254902  0.         0.         0.         0.         0.\n",
      "  0.         0.         0.         0.        ]\n",
      " [0.         0.         0.         0.         0.         0.\n",
      "  0.         0.         0.         0.         0.62745098 0.41568627\n",
      "  0.68627451 0.10196078 0.         0.         0.74901961 0.80392157\n",
      "  0.50196078 0.         0.         0.         0.         0.\n",
      "  0.         0.         0.         0.        ]\n",
      " [0.         0.         0.         0.         0.         0.\n",
      "  0.         0.         0.         0.         0.47843137 0.50196078\n",
      "  0.63137255 0.01176471 0.         0.         0.74117647 0.80784314\n",
      "  0.41176471 0.         0.         0.         0.         0.\n",
      "  0.         0.         0.         0.        ]\n",
      " [0.         0.         0.         0.         0.         0.\n",
      "  0.         0.         0.         0.         0.24705882 0.83921569\n",
      "  0.64705882 0.         0.         0.         0.68235294 0.8\n",
      "  0.21960784 0.         0.         0.         0.         0.\n",
      "  0.         0.         0.         0.        ]\n",
      " [0.         0.         0.         0.         0.         0.\n",
      "  0.         0.         0.         0.         0.09803922 0.80784314\n",
      "  0.61568627 0.         0.         0.         0.63137255 0.78039216\n",
      "  0.06666667 0.         0.         0.         0.         0.\n",
      "  0.         0.         0.         0.        ]\n",
      " [0.         0.         0.         0.         0.         0.\n",
      "  0.         0.         0.         0.         0.         0.72156863\n",
      "  0.56862745 0.         0.         0.         0.62745098 0.71372549\n",
      "  0.         0.         0.         0.         0.         0.\n",
      "  0.         0.         0.         0.        ]\n",
      " [0.         0.         0.         0.         0.         0.\n",
      "  0.         0.         0.         0.         0.         0.70980392\n",
      "  0.57254902 0.         0.         0.         0.69411765 0.68627451\n",
      "  0.         0.         0.         0.         0.         0.\n",
      "  0.         0.         0.         0.        ]\n",
      " [0.         0.         0.         0.         0.         0.\n",
      "  0.         0.         0.         0.         0.         0.43921569\n",
      "  0.34509804 0.         0.         0.         0.43529412 0.47058824\n",
      "  0.         0.         0.         0.         0.         0.\n",
      "  0.         0.         0.         0.        ]]\n"
     ]
    }
   ],
   "source": [
    "print(train_images[78])"
   ]
  },
  {
   "cell_type": "code",
   "execution_count": 59,
   "id": "31dbbc9e",
   "metadata": {},
   "outputs": [],
   "source": [
    "model=keras.Sequential([tf.keras.layers.Flatten(input_shape=(28, 28)),\n",
    "    tf.keras.layers.Dense(128, activation='relu'),\n",
    "    tf.keras.layers.Dense(10, activation= 'softmax')])"
   ]
  },
  {
   "cell_type": "code",
   "execution_count": 60,
   "id": "03d75dee",
   "metadata": {},
   "outputs": [],
   "source": [
    "model.compile(optimizer='adam',\n",
    "              loss=\"sparse_categorical_crossentropy\",\n",
    "              metrics=['accuracy'])\n"
   ]
  },
  {
   "cell_type": "code",
   "execution_count": 61,
   "id": "f7005844",
   "metadata": {},
   "outputs": [
    {
     "name": "stdout",
     "output_type": "stream",
     "text": [
      "Epoch 1/5\n",
      "1875/1875 [==============================] - 4s 2ms/step - loss: 0.5009 - accuracy: 0.8223\n",
      "Epoch 2/5\n",
      "1875/1875 [==============================] - 3s 2ms/step - loss: 0.3775 - accuracy: 0.8640\n",
      "Epoch 3/5\n",
      "1875/1875 [==============================] - 3s 2ms/step - loss: 0.3425 - accuracy: 0.8753\n",
      "Epoch 4/5\n",
      "1875/1875 [==============================] - 3s 2ms/step - loss: 0.3184 - accuracy: 0.8838\n",
      "Epoch 5/5\n",
      "1875/1875 [==============================] - 3s 2ms/step - loss: 0.2971 - accuracy: 0.8910\n"
     ]
    },
    {
     "data": {
      "text/plain": [
       "<tensorflow.python.keras.callbacks.History at 0x1e280a24ee0>"
      ]
     },
     "execution_count": 61,
     "metadata": {},
     "output_type": "execute_result"
    }
   ],
   "source": [
    "#train model\n",
    "model.fit(train_images, train_labels, epochs=5)"
   ]
  },
  {
   "cell_type": "code",
   "execution_count": 62,
   "id": "61c4fe78",
   "metadata": {},
   "outputs": [
    {
     "name": "stdout",
     "output_type": "stream",
     "text": [
      "313/313 [==============================] - 0s 1ms/step - loss: 0.3593 - accuracy: 0.8710\n"
     ]
    }
   ],
   "source": [
    "test_loss, test_acc= model.evaluate(test_images, test_labels)"
   ]
  },
  {
   "cell_type": "code",
   "execution_count": 63,
   "id": "bb1ae832",
   "metadata": {},
   "outputs": [
    {
     "name": "stdout",
     "output_type": "stream",
     "text": [
      "Tested Accuracy: 0.8709999918937683\n"
     ]
    }
   ],
   "source": [
    "print(\"Tested Accuracy:\",test_acc)"
   ]
  },
  {
   "cell_type": "code",
   "execution_count": 70,
   "id": "1f001573",
   "metadata": {},
   "outputs": [
    {
     "name": "stdout",
     "output_type": "stream",
     "text": [
      "Bag\n"
     ]
    }
   ],
   "source": [
    "prediction=model.predict(test_images)\n",
    "print(class_names[np.argmax(prediction[78])])"
   ]
  },
  {
   "cell_type": "code",
   "execution_count": 78,
   "id": "a0be49cf",
   "metadata": {},
   "outputs": [
    {
     "data": {
      "image/png": "[encoded data removed]",
      "text/plain": [
       "<Figure size 432x288 with 1 Axes>"
      ]
     },
     "metadata": {
      "needs_background": "light"
     },
     "output_type": "display_data"
    },
    {
     "data": {
      "image/png": "[encoded data removed]",
      "text/plain": [
       "<Figure size 432x288 with 1 Axes>"
      ]
     },
     "metadata": {
      "needs_background": "light"
     },
     "output_type": "display_data"
    },
    {
     "data": {
      "image/png": "[encoded data removed]",
      "text/plain": [
       "<Figure size 432x288 with 1 Axes>"
      ]
     },
     "metadata": {
      "needs_background": "light"
     },
     "output_type": "display_data"
    },
    {
     "data": {
      "image/png": "[encoded data removed]",
      "text/plain": [
       "<Figure size 432x288 with 1 Axes>"
      ]
     },
     "metadata": {
      "needs_background": "light"
     },
     "output_type": "display_data"
    },
    {
     "data": {
      "image/png": "[encoded data removed]",
      "text/plain": [
       "<Figure size 432x288 with 1 Axes>"
      ]
     },
     "metadata": {
      "needs_background": "light"
     },
     "output_type": "display_data"
    }
   ],
   "source": [
    "for i in range(5):\n",
    "    plt.grid(False)\n",
    "    plt.imshow(test_images[i], cmap=plt.cm.binary)\n",
    "    plt.xlabel(\"Actual:\"+class_names[test_labels[i]])\n",
    "    plt.title(\"Prediction:\"+class_names[np.argmax(prediction[i])])\n",
    "    plt.show()"
   ]
  },
  {
   "cell_type": "code",
   "execution_count": null,
   "id": "41a1ed86",
   "metadata": {},
   "outputs": [],
   "source": []
  }
 ],
 "metadata": {
  "kernelspec": {
   "display_name": "Python 3",
   "language": "python",
   "name": "python3"
  },
  "language_info": {
   "codemirror_mode": {
    "name": "ipython",
    "version": 3
   },
   "file_extension": ".py",
   "mimetype": "text/x-python",
   "name": "python",
   "nbconvert_exporter": "python",
   "pygments_lexer": "ipython3",
   "version": "3.8.8"
  }
 },
 "nbformat": 4,
 "nbformat_minor": 5
}
